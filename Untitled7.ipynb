{
  "nbformat": 4,
  "nbformat_minor": 0,
  "metadata": {
    "colab": {
      "provenance": [],
      "authorship_tag": "ABX9TyPslYUWvZURQ5FX3eSNbzHu",
      "include_colab_link": true
    },
    "kernelspec": {
      "name": "python3",
      "display_name": "Python 3"
    },
    "language_info": {
      "name": "python"
    }
  },
  "cells": [
    {
      "cell_type": "markdown",
      "metadata": {
        "id": "view-in-github",
        "colab_type": "text"
      },
      "source": [
        "<a href=\"https://colab.research.google.com/github/ciicitanjung/Cici-Tjg/blob/main/Untitled7.ipynb\" target=\"_parent\"><img src=\"https://colab.research.google.com/assets/colab-badge.svg\" alt=\"Open In Colab\"/></a>"
      ]
    },
    {
      "cell_type": "code",
      "execution_count": 2,
      "metadata": {
        "colab": {
          "base_uri": "https://localhost:8080/"
        },
        "id": "KR1ifOFsPifg",
        "outputId": "e223f126-b93b-49be-f32c-2a1c21c7f2ba"
      },
      "outputs": [
        {
          "output_type": "stream",
          "name": "stdout",
          "text": [
            "Halo[cici aulia tanjung]! Selamat belajar python\n"
          ]
        }
      ],
      "source": [
        "nama = (\"masukkan nama\")\n",
        "print(\"Halo[cici aulia tanjung]! Selamat belajar python\")"
      ]
    },
    {
      "cell_type": "code",
      "source": [
        "panjang = input(\"masukan nilai panjang:\")\n",
        "lebar = input(\"masukan nilai lebar:\")\n",
        "luas = int(panjang) * int(lebar)\n",
        "print(\"luas persegi panjang adalah\", luas)"
      ],
      "metadata": {
        "colab": {
          "base_uri": "https://localhost:8080/"
        },
        "id": "OFVOZtAPQbao",
        "outputId": "43b2588d-65bd-490f-89b8-9cecacdc2830"
      },
      "execution_count": 3,
      "outputs": [
        {
          "output_type": "stream",
          "name": "stdout",
          "text": [
            "masukan nilai panjang:3\n",
            "masukan nilai lebar:5\n",
            "luas persegi panjang adalah 15\n"
          ]
        }
      ]
    },
    {
      "cell_type": "code",
      "source": [
        "# masukan bilangan ganjil\n",
        "Bilangan = input(\"masukan nilai angka:\")\n",
        "if int(Bilangan) % 2 == 0:\n",
        "  print(\"Bilangan genap\")\n",
        "else:\n",
        "  print(\"Bilangan ganjil\")"
      ],
      "metadata": {
        "colab": {
          "base_uri": "https://localhost:8080/"
        },
        "id": "5UbKYa8VQjzg",
        "outputId": "1b376170-a4bf-4b56-c6bd-a57cc9ee3c0e"
      },
      "execution_count": 4,
      "outputs": [
        {
          "output_type": "stream",
          "name": "stdout",
          "text": [
            "masukan nilai angka:3\n",
            "Bilangan ganjil\n"
          ]
        }
      ]
    },
    {
      "cell_type": "code",
      "source": [
        "for i in range(1,21):\n",
        "  print(i, end=\" \")"
      ],
      "metadata": {
        "colab": {
          "base_uri": "https://localhost:8080/"
        },
        "id": "UbdQIb-cQrL2",
        "outputId": "0df99460-60e1-4d0f-df25-cc5ab3786444"
      },
      "execution_count": 5,
      "outputs": [
        {
          "output_type": "stream",
          "name": "stdout",
          "text": [
            "1 2 3 4 5 6 7 8 9 10 11 12 13 14 15 16 17 18 19 20 "
          ]
        }
      ]
    },
    {
      "cell_type": "code",
      "source": [
        "a = int(input(\"masukan nilai pertama:\"))\n",
        "b = int(input(\"masukan nilai kedua:\"))\n",
        "\n",
        "jumlah = 0\n",
        "\n",
        "for i in range(a, b + 1):\n",
        "  jumlah += i # menentukan dari setiap bilangan ke jumlah\n",
        "\n",
        "# mencetak jumlah\n",
        "print(\"jumlah semua bilangan antara\", a, \"dan\", \"adalah:\", jumlah)\n",
        ""
      ],
      "metadata": {
        "colab": {
          "base_uri": "https://localhost:8080/"
        },
        "id": "_kpV6hGYQxUk",
        "outputId": "9d3d98db-9ce7-4212-b370-2226e1b1b762"
      },
      "execution_count": 7,
      "outputs": [
        {
          "output_type": "stream",
          "name": "stdout",
          "text": [
            "masukan nilai pertama:3\n",
            "masukan nilai kedua:7\n",
            "jumlah semua bilangan antara 3 dan adalah: 25\n"
          ]
        }
      ]
    },
    {
      "cell_type": "code",
      "source": [
        "a = int(input(\"masukan nilai pertama:\"))\n",
        "b = int(input(\"masukan nilai kedua:\"))\n",
        "print(f\"bilangan genap dari rentang {a} sampai {b}:\")\n",
        "for i in range(a, b + 1):\n",
        "  if i % 2 == 0:\n",
        "    print(i)"
      ],
      "metadata": {
        "colab": {
          "base_uri": "https://localhost:8080/"
        },
        "id": "eWgvcRdsRGyv",
        "outputId": "e11c8af9-8bbd-4cc2-80b8-78d71ec92d1e"
      },
      "execution_count": 8,
      "outputs": [
        {
          "output_type": "stream",
          "name": "stdout",
          "text": [
            "masukan nilai pertama:3\n",
            "masukan nilai kedua:10\n",
            "bilangan genap dari rentang 3 sampai 10:\n",
            "4\n",
            "6\n",
            "8\n",
            "10\n"
          ]
        }
      ]
    },
    {
      "cell_type": "code",
      "source": [
        "a = [5, 2, 8, 1]\n",
        "print(a[::-1])"
      ],
      "metadata": {
        "colab": {
          "base_uri": "https://localhost:8080/"
        },
        "id": "1BZvu_MYRO0v",
        "outputId": "1627f859-f784-4a63-ca1b-6a428794ac2a"
      },
      "execution_count": 9,
      "outputs": [
        {
          "output_type": "stream",
          "name": "stdout",
          "text": [
            "[1, 8, 2, 5]\n"
          ]
        }
      ]
    }
  ]
}