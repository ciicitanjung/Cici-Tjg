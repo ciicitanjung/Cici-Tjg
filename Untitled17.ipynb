{
  "nbformat": 4,
  "nbformat_minor": 0,
  "metadata": {
    "colab": {
      "provenance": [],
      "authorship_tag": "ABX9TyOM2dpaJYVJVyK2kQXPPuiK",
      "include_colab_link": true
    },
    "kernelspec": {
      "name": "python3",
      "display_name": "Python 3"
    },
    "language_info": {
      "name": "python"
    }
  },
  "cells": [
    {
      "cell_type": "markdown",
      "metadata": {
        "id": "view-in-github",
        "colab_type": "text"
      },
      "source": [
        "<a href=\"https://colab.research.google.com/github/ciicitanjung/Cici-Tjg/blob/main/Untitled17.ipynb\" target=\"_parent\"><img src=\"https://colab.research.google.com/assets/colab-badge.svg\" alt=\"Open In Colab\"/></a>"
      ]
    },
    {
      "cell_type": "markdown",
      "source": [
        "Latihan Modul 1"
      ],
      "metadata": {
        "id": "DRyTbn_zcCJr"
      }
    },
    {
      "cell_type": "code",
      "source": [
        "print(\"hallo, siapa namamu?\")\n",
        "a = input()\n",
        "print(\"dikota apa kamu sekarang?\")\n",
        "b = input()\n",
        "print(f\"senang bertemu denganmu {a} dikota {b}\")"
      ],
      "metadata": {
        "colab": {
          "base_uri": "https://localhost:8080/"
        },
        "id": "wQgknN43cHbs",
        "outputId": "3169807d-fb0a-42f4-b4c9-fdc2d7efadf7"
      },
      "execution_count": null,
      "outputs": [
        {
          "output_type": "stream",
          "name": "stdout",
          "text": [
            "hallo, siapa namamu?\n",
            "Anas\n",
            "dikota apa kamu sekarang?\n",
            "Bandung\n",
            "senang bertemu denganmu Anas dikota Bandung\n"
          ]
        }
      ]
    },
    {
      "cell_type": "code",
      "source": [
        "tahun_awal = int(input(\"masukkan jumlah tahun awal: \"))\n",
        "penduduk_awal = int(input(\"masukkan jumlah penduduk awal: \"))\n",
        "kelahiran = int(input(\"masukkan jumlah kelahiran pertahun: \"))\n",
        "kematian = int(input(\"masukkan jumlah kematian pertahun: \"))\n",
        "imigrasi = int(input(\"masukkan jumlah imigrasi pertahun: \"))\n",
        "tahun_akhir = int(input(\"masukkan tahun akhir: \"))\n",
        "\n",
        "tahun_selisih = tahun_akhir - tahun_awal\n",
        "penduduk_akhir = penduduk_awal + (kelahiran-kematian+imigrasi)*tahun_selisih\n",
        "\n",
        "print(f\"jumlah penduduk pada tahun {tahun_akhir} adalah {penduduk_akhir}\")"
      ],
      "metadata": {
        "colab": {
          "base_uri": "https://localhost:8080/"
        },
        "id": "G2MBqmPCc6sV",
        "outputId": "17182ada-c0c4-4d75-d259-d591dffa67f3"
      },
      "execution_count": 10,
      "outputs": [
        {
          "output_type": "stream",
          "name": "stdout",
          "text": [
            "masukkan jumlah tahun awal: 2024\n",
            "masukkan jumlah penduduk awal: 1500000\n",
            "masukkan jumlah kelahiran pertahun: 100000\n",
            "masukkan jumlah kematian pertahun: 50000\n",
            "masukkan jumlah imigrasi pertahun: 20000\n",
            "masukkan tahun akhir: 2025\n",
            "jumlah penduduk pada tahun 2025 adalah 1570000\n"
          ]
        }
      ]
    },
    {
      "cell_type": "code",
      "source": [
        "jumlah_barang = int(input(\"masukkan jumlah barang yang di beli: \"))\n",
        "total_harga = 0\n",
        "\n",
        "for i in range(jumlah_barang):\n",
        "  harga_barang = float(input(f\"masukkan harga  barang ke-{i+1}: \"))\n",
        "  total_harga += harga_barang\n",
        "if total_harga > 100000:\n",
        "  total_harga *= 0.9 # berikan diskon  10%\n",
        "\n",
        "  print(f\"total harga setelah diskon(jika ada): Rp{total_harga:.2f}\")"
      ],
      "metadata": {
        "colab": {
          "base_uri": "https://localhost:8080/"
        },
        "id": "1Gag8Q5IengP",
        "outputId": "1d5cd5f7-cfc0-459b-dc67-9d258f9e9fd0"
      },
      "execution_count": null,
      "outputs": [
        {
          "output_type": "stream",
          "name": "stdout",
          "text": [
            "masukkan jumlah barang yang di beli: 3\n",
            "masukkan harga  barang ke-1: 50000\n",
            "masukkan harga  barang ke-2: 25000\n",
            "masukkan harga  barang ke-3: 37000\n",
            "total harga setelah diskon(jika ada): Rp100800.00\n"
          ]
        }
      ]
    }
  ]
}